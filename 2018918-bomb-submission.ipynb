{
 "cells": [
  {
   "cell_type": "markdown",
   "id": "7eedf1bc-4e8a-48ee-9b8c-71e47adadc92",
   "metadata": {},
   "source": [
    "# The Elitzur-Vaidman bomb experiment\n",
    "\n",
    "Your task is to improve the bomb-detecting strategy in this notebook to satisfy the following guarantee: given an error parameter $\\varepsilon$, output an experiment that detects a bomb without triggering it with probability $1 - \\varepsilon$."
   ]
  },
  {
   "cell_type": "code",
   "execution_count": 1,
   "id": "29f512e6-4ec4-42d1-8e23-2a4f48b46d97",
   "metadata": {},
   "outputs": [],
   "source": [
    "import numpy as np\n",
    "\n",
    "# Importing standard Qiskit libraries\n",
    "from qiskit import QuantumCircuit, ClassicalRegister, QuantumRegister, transpile, Aer, IBMQ\n",
    "from qiskit.tools.jupyter import *\n",
    "from qiskit.visualization import *\n",
    "from ibm_quantum_widgets import *\n",
    "from qiskit.providers.aer import QasmSimulator\n",
    "from math import pi\n",
    "from ibm_quantum_widgets import draw_circuit\n",
    "\n",
    "# Loading your IBM Quantum account(s)\n",
    "provider = IBMQ.load_account()\n",
    "backend = Aer.get_backend('qasm_simulator')"
   ]
  },
  {
   "cell_type": "code",
   "execution_count": 2,
   "id": "8a3a3d24-faa2-4353-a8db-80313f58ae3b",
   "metadata": {},
   "outputs": [],
   "source": [
    "b = QuantumCircuit(1, 1, name='Bomb')\n",
    "b.measure(0, 0)\n",
    "bomb = b.to_instruction()\n",
    "\n",
    "nb = QuantumCircuit(1, 1, name='No bomb')\n",
    "nb.id(0)\n",
    "no_bomb = nb.to_instruction()"
   ]
  },
  {
   "attachments": {},
   "cell_type": "markdown",
   "id": "45fb7b89",
   "metadata": {},
   "source": [
    "## Elitzur Vaidman solution with rotation gate\n",
    "\n",
    "Considering $R_{\\epsilon}$ such that, given state of qubit\n",
    "$$\n",
    "\\ket{0} \\implies R_{\\theta} \\ket{0} = \\ket{\\theta} = \n",
    "\\cos (\\theta) \\ket{0} + \\sin (\\theta) \\ket{1}\n",
    "$$\n",
    "Where \n",
    "$$\n",
    "R_{\\phi} \\ket{theta} = \\ket{\\theta + \\phi} = \\cos (\\theta + \\phi) \\ket{0} + \\sin (\\theta + \\phi) \\ket{1}\n",
    "$$\n",
    "\n",
    "The idea is to:\n",
    "1. Send $\\ket{0}$\n",
    "2. Apply rotation gate with $\\epsilon$ radians\n",
    "3. send the qubit to the briefcase\n",
    "4. Repeat steps 2 and 3 until the qubit is rotated to $\\ket{1}$\n",
    "\n",
    "This works since, if there is no bomb, no measurement is happening on the qubit and when we measure the resulting qubit, it is guaranteed to be measured as $\\ket{1}$. Otherwise, everytime the bomb measures the qubit, the probability to explode is $O(\\epsilon^2)$, which implies the resulting state will most likely be $\\ket{0}$. This also implies, if we measure the qubit at the end, it will always be $\\ket{0}$. This allows us to maximize our winning chances.\n",
    "\n",
    "Since $\\frac{\\pi}{2}$ is irrational, $k * \\epsilon \\neq \\frac{\\pi}{2} \\, \\forall k \\in \\N$. To compensate for this, I ensure in the last iteration of the algorithm I add the remaining angle.\n",
    "\n",
    "To do this I first argue the following lemma: \n",
    "$$\n",
    "\\begin{gather}\n",
    "\\forall a,b \\in \\R \\text{ where : } b < a \\\\ \n",
    "b * \\lceil \\frac{a - b}{b}\\rceil < a \n",
    "\\end{gather}\n",
    "$$\n",
    "Proof:\n",
    "Suppose $a / b = c$ where $c \\in \\N$. Then\n",
    "$$\n",
    "\\begin{align}\n",
    "b * \\lceil \\frac{a - b}{b}\\rceil &=  b * \\lceil \\frac{a}{b} - 1 \\rceil = b * (c - 1) < a\n",
    "\\end{align}\n",
    "$$\n",
    "Suppose $a / b = c$ where $c \\notin \\N$. Then $c = \\lambda + f$ where $\\lfloor a / b \\rfloor = \\lambda$ and $f = a - \\lambda * b$. We know $f < 1$, therefore:\n",
    "$$\n",
    "\\begin{align}\n",
    "b * \\lceil \\frac{a - b}{b}\\rceil &=  b * \\lceil \\lambda + f - 1 \\rceil < b * \\lambda < a\n",
    "\\end{align}\n",
    "$$\n",
    "\n",
    "Using the lemma I apply steps 2,3 with $R_{\\epsilon}$, $\\lceil \\frac{\\frac{\\pi}{2} - \\epsilon}{\\epsilon}\\rceil$ times and apply one last time $R_{\\phi}$ where $\\phi = \\frac{\\pi}{2} - \\lceil \\frac{\\frac{\\pi}{2} - \\epsilon}{\\epsilon}\\rceil * \\epsilon $\n",
    "\n",
    "Using the following procedure, we can guarantee winning probability $O(\\epsilon)$"
   ]
  },
  {
   "cell_type": "code",
   "execution_count": 1,
   "id": "99c87fb8-a516-453f-a7a1-708b9e64c68b",
   "metadata": {},
   "outputs": [],
   "source": [
    "def elitzur_vaidman(black_box, eps):\n",
    "    # --------- #\n",
    "    ### EDIT HERE ### \n",
    "    from math import ceil\n",
    "    final = np.pi \n",
    "    iterations = int(ceil((final - eps) / eps)) # Based on the lemma explained in the markdown section\n",
    "    circuit = QuantumCircuit(1,iterations + 2) # Add iterations +2 bits to measure the state of the bomb.\n",
    "    # The reason for +2 is because, 1st bit will be used for the phi angle (explained in the previous section)\n",
    "    # and the last bit will be used to measure the qubit itself\n",
    "\n",
    "    # Reason for using multiple classical bits is: multiple bomb measures overwrite the current value on the register\n",
    "    for i in range(iterations):\n",
    "        circuit.ry(eps, 0) # apply epsilon rotation\n",
    "        circuit.append(black_box, qargs=[0], cargs=[i]) # measure the bomb on the ith cbit\n",
    "    circuit.ry(final - iterations * eps,0) # apply last iteration\n",
    "    circuit.append(black_box, qargs=[0], cargs=[iterations])\n",
    "    circuit.measure(0, iterations + 1) # This measures the bomb\n",
    "    # --------- #\n",
    "    \n",
    "    \n",
    "    job = backend.run(transpile(circuit, backend), shots=1024)\n",
    "    results = {'Bomb': 0, 'BOOM!': 0, 'No bomb': 0}\n",
    "    for outcome, frequency in job.result().get_counts().items():\n",
    "        if '1' in outcome[1:]:\n",
    "            results['BOOM!'] += frequency\n",
    "        # --------- #\n",
    "        ### EDIT HERE ###\n",
    "        elif outcome[0] == '1': #Explained in the previous section. \n",
    "        # Essentially check: if the qubit was rotated to \\ket{1} there is a bomb\n",
    "        # else no bomb\n",
    "        # --------- #     \n",
    "            results['No bomb'] += frequency\n",
    "        else:\n",
    "            results['Bomb'] += frequency\n",
    "    print(results)"
   ]
  },
  {
   "cell_type": "code",
   "execution_count": 4,
   "id": "cc47429a-e1f4-4c20-8345-cfd1af3c9a93",
   "metadata": {},
   "outputs": [
    {
     "name": "stdout",
     "output_type": "stream",
     "text": [
      "{'Bomb': 0, 'BOOM!': 0, 'No bomb': 1024}\n",
      "{'Bomb': 0, 'BOOM!': 0, 'No bomb': 1024}\n",
      "{'Bomb': 0, 'BOOM!': 0, 'No bomb': 1024}\n",
      "{'Bomb': 0, 'BOOM!': 0, 'No bomb': 1024}\n"
     ]
    }
   ],
   "source": [
    "for eps in [0.5, 0.1, 0.01, 0.001]:\n",
    "    elitzur_vaidman(no_bomb, eps)"
   ]
  },
  {
   "cell_type": "code",
   "execution_count": 5,
   "id": "8a0c4991-f08c-4ead-a68b-5975b4681acd",
   "metadata": {},
   "outputs": [
    {
     "name": "stdout",
     "output_type": "stream",
     "text": [
      "{'Bomb': 693, 'BOOM!': 331, 'No bomb': 0}\n",
      "{'Bomb': 940, 'BOOM!': 84, 'No bomb': 0}\n",
      "{'Bomb': 1017, 'BOOM!': 7, 'No bomb': 0}\n",
      "{'Bomb': 1023, 'BOOM!': 1, 'No bomb': 0}\n"
     ]
    }
   ],
   "source": [
    "for eps in [0.5, 0.1, 0.01, 0.001]:\n",
    "    elitzur_vaidman(bomb, eps)"
   ]
  },
  {
   "cell_type": "code",
   "execution_count": 9,
   "id": "59c75fe9-f54f-4ffa-a203-eb9cf593721b",
   "metadata": {},
   "outputs": [
    {
     "data": {
      "text/html": [
       "<pre style=\"word-wrap: normal;white-space: pre;background: #fff0;line-height: 1.1;font-family: &quot;Courier New&quot;,Courier,monospace\">     ┌─────────┐┌──────────┐┌─────────┐┌──────────┐┌─────────┐┌──────────┐»\n",
       "  q: ┤ Ry(0.5) ├┤0         ├┤ Ry(0.5) ├┤0         ├┤ Ry(0.5) ├┤0         ├»\n",
       "     └─────────┘│  No bomb │└─────────┘│          │└─────────┘│  No bomb │»\n",
       "c_0: ═══════════╡0         ╞═══════════╡          ╞═══════════╡          ╞»\n",
       "                └──────────┘           │          │           │          │»\n",
       "c_1: ══════════════════════════════════╡0         ╞═══════════╡          ╞»\n",
       "                                       └──────────┘           │          │»\n",
       "c_2: ═════════════════════════════════════════════════════════╡0         ╞»\n",
       "                                                              └──────────┘»\n",
       "c_3: ═════════════════════════════════════════════════════════════════════»\n",
       "                                                                          »\n",
       "c_4: ═════════════════════════════════════════════════════════════════════»\n",
       "                                                                          »\n",
       "c_5: ═════════════════════════════════════════════════════════════════════»\n",
       "                                                                          »\n",
       "c_6: ═════════════════════════════════════════════════════════════════════»\n",
       "                                                                          »\n",
       "c_7: ═════════════════════════════════════════════════════════════════════»\n",
       "                                                                          »\n",
       "«     ┌─────────┐┌──────────┐┌─────────┐┌──────────┐┌─────────┐┌──────────┐»\n",
       "«  q: ┤ Ry(0.5) ├┤0         ├┤ Ry(0.5) ├┤0         ├┤ Ry(0.5) ├┤0         ├»\n",
       "«     └─────────┘│          │└─────────┘│          │└─────────┘│          │»\n",
       "«c_0: ═══════════╡  No bomb ╞═══════════╡          ╞═══════════╡          ╞»\n",
       "«                │          │           │  No bomb │           │          │»\n",
       "«c_1: ═══════════╡          ╞═══════════╡          ╞═══════════╡  No bomb ╞»\n",
       "«                │          │           │          │           │          │»\n",
       "«c_2: ═══════════╡          ╞═══════════╡          ╞═══════════╡          ╞»\n",
       "«                │          │           │          │           │          │»\n",
       "«c_3: ═══════════╡0         ╞═══════════╡          ╞═══════════╡          ╞»\n",
       "«                └──────────┘           │          │           │          │»\n",
       "«c_4: ══════════════════════════════════╡0         ╞═══════════╡          ╞»\n",
       "«                                       └──────────┘           │          │»\n",
       "«c_5: ═════════════════════════════════════════════════════════╡0         ╞»\n",
       "«                                                              └──────────┘»\n",
       "«c_6: ═════════════════════════════════════════════════════════════════════»\n",
       "«                                                                          »\n",
       "«c_7: ═════════════════════════════════════════════════════════════════════»\n",
       "«                                                                          »\n",
       "«     ┌─────────────┐┌──────────┐┌─┐\n",
       "«  q: ┤ Ry(0.14159) ├┤0         ├┤M├\n",
       "«     └─────────────┘│          │└╥┘\n",
       "«c_0: ═══════════════╡          ╞═╬═\n",
       "«                    │          │ ║ \n",
       "«c_1: ═══════════════╡          ╞═╬═\n",
       "«                    │  No bomb │ ║ \n",
       "«c_2: ═══════════════╡          ╞═╬═\n",
       "«                    │          │ ║ \n",
       "«c_3: ═══════════════╡          ╞═╬═\n",
       "«                    │          │ ║ \n",
       "«c_4: ═══════════════╡          ╞═╬═\n",
       "«                    │          │ ║ \n",
       "«c_5: ═══════════════╡          ╞═╬═\n",
       "«                    │          │ ║ \n",
       "«c_6: ═══════════════╡0         ╞═╬═\n",
       "«                    └──────────┘ ║ \n",
       "«c_7: ════════════════════════════╩═\n",
       "«                                   </pre>"
      ],
      "text/plain": [
       "     ┌─────────┐┌──────────┐┌─────────┐┌──────────┐┌─────────┐┌──────────┐»\n",
       "  q: ┤ Ry(0.5) ├┤0         ├┤ Ry(0.5) ├┤0         ├┤ Ry(0.5) ├┤0         ├»\n",
       "     └─────────┘│  No bomb │└─────────┘│          │└─────────┘│  No bomb │»\n",
       "c_0: ═══════════╡0         ╞═══════════╡          ╞═══════════╡          ╞»\n",
       "                └──────────┘           │          │           │          │»\n",
       "c_1: ══════════════════════════════════╡0         ╞═══════════╡          ╞»\n",
       "                                       └──────────┘           │          │»\n",
       "c_2: ═════════════════════════════════════════════════════════╡0         ╞»\n",
       "                                                              └──────────┘»\n",
       "c_3: ═════════════════════════════════════════════════════════════════════»\n",
       "                                                                          »\n",
       "c_4: ═════════════════════════════════════════════════════════════════════»\n",
       "                                                                          »\n",
       "c_5: ═════════════════════════════════════════════════════════════════════»\n",
       "                                                                          »\n",
       "c_6: ═════════════════════════════════════════════════════════════════════»\n",
       "                                                                          »\n",
       "c_7: ═════════════════════════════════════════════════════════════════════»\n",
       "                                                                          »\n",
       "«     ┌─────────┐┌──────────┐┌─────────┐┌──────────┐┌─────────┐┌──────────┐»\n",
       "«  q: ┤ Ry(0.5) ├┤0         ├┤ Ry(0.5) ├┤0         ├┤ Ry(0.5) ├┤0         ├»\n",
       "«     └─────────┘│          │└─────────┘│          │└─────────┘│          │»\n",
       "«c_0: ═══════════╡  No bomb ╞═══════════╡          ╞═══════════╡          ╞»\n",
       "«                │          │           │  No bomb │           │          │»\n",
       "«c_1: ═══════════╡          ╞═══════════╡          ╞═══════════╡  No bomb ╞»\n",
       "«                │          │           │          │           │          │»\n",
       "«c_2: ═══════════╡          ╞═══════════╡          ╞═══════════╡          ╞»\n",
       "«                │          │           │          │           │          │»\n",
       "«c_3: ═══════════╡0         ╞═══════════╡          ╞═══════════╡          ╞»\n",
       "«                └──────────┘           │          │           │          │»\n",
       "«c_4: ══════════════════════════════════╡0         ╞═══════════╡          ╞»\n",
       "«                                       └──────────┘           │          │»\n",
       "«c_5: ═════════════════════════════════════════════════════════╡0         ╞»\n",
       "«                                                              └──────────┘»\n",
       "«c_6: ═════════════════════════════════════════════════════════════════════»\n",
       "«                                                                          »\n",
       "«c_7: ═════════════════════════════════════════════════════════════════════»\n",
       "«                                                                          »\n",
       "«     ┌─────────────┐┌──────────┐┌─┐\n",
       "«  q: ┤ Ry(0.14159) ├┤0         ├┤M├\n",
       "«     └─────────────┘│          │└╥┘\n",
       "«c_0: ═══════════════╡          ╞═╬═\n",
       "«                    │          │ ║ \n",
       "«c_1: ═══════════════╡          ╞═╬═\n",
       "«                    │  No bomb │ ║ \n",
       "«c_2: ═══════════════╡          ╞═╬═\n",
       "«                    │          │ ║ \n",
       "«c_3: ═══════════════╡          ╞═╬═\n",
       "«                    │          │ ║ \n",
       "«c_4: ═══════════════╡          ╞═╬═\n",
       "«                    │          │ ║ \n",
       "«c_5: ═══════════════╡          ╞═╬═\n",
       "«                    │          │ ║ \n",
       "«c_6: ═══════════════╡0         ╞═╬═\n",
       "«                    └──────────┘ ║ \n",
       "«c_7: ════════════════════════════╩═\n",
       "«                                   "
      ]
     },
     "execution_count": 9,
     "metadata": {},
     "output_type": "execute_result"
    }
   ],
   "source": [
    "# Feel free to include graphs/plots/visualisations here; but only the section in the elitzur_vaidman function will be marked.\n",
    "from math import ceil\n",
    "final = np.pi \n",
    "eps = 0.5\n",
    "iterations = int(ceil((final - eps) / eps)) # Based on the lemma explain in the markdown section\n",
    "circuit = QuantumCircuit(1,iterations + 2) # Add iterations +2 bits to measure the state of the bomb.\n",
    "# The reason for +2 is because, +1th bit will be used for the phi angle (explained in the previous section)\n",
    "# and the last bit will be used to measure the qubit itself\n",
    "for i in range(iterations):\n",
    "    circuit.ry(eps, 0) \n",
    "    circuit.append(no_bomb, qargs=[0], cargs=[i])\n",
    "circuit.ry(final - iterations * eps,0)\n",
    "circuit.append(no_bomb, qargs=[0], cargs=[iterations])\n",
    "circuit.measure(0, iterations + 1) # This measures the bomb\n",
    "circuit.draw()"
   ]
  }
 ],
 "metadata": {
  "kernelspec": {
   "display_name": "base",
   "language": "python",
   "name": "python3"
  },
  "language_info": {
   "codemirror_mode": {
    "name": "ipython",
    "version": 3
   },
   "file_extension": ".py",
   "mimetype": "text/x-python",
   "name": "python",
   "nbconvert_exporter": "python",
   "pygments_lexer": "ipython3",
   "version": "3.9.13"
  },
  "vscode": {
   "interpreter": {
    "hash": "16ac07b0fcee4d998c61730cb11f500febe72ecfe0422aa67d621d54e17a39fb"
   }
  },
  "widgets": {
   "application/vnd.jupyter.widget-state+json": {
    "state": {
     "03ee5a3dffdf4b06abdf1c9a042dec5b": {
      "model_module": "@jupyter-widgets/controls",
      "model_module_version": "1.5.0",
      "model_name": "HTMLModel",
      "state": {
       "layout": "IPY_MODEL_e5230361e3d84b28801590b1b59af486",
       "style": "IPY_MODEL_6d11404a2e164277876f14fc22dd19f2",
       "value": "<h5>Queue</h5>"
      }
     },
     "08bb9e589df84d5b8e80ec9c7d5a1bea": {
      "model_module": "@jupyter-widgets/controls",
      "model_module_version": "1.5.0",
      "model_name": "HTMLModel",
      "state": {
       "layout": "IPY_MODEL_54fa9d59d672483db4ef95c0dc4c278a",
       "style": "IPY_MODEL_c2679e15be634d03ae399eb237e2d93e",
       "value": "<h5>Status</h5>"
      }
     },
     "0fdeb44de1ed460a86b4911893cf7600": {
      "model_module": "@jupyter-widgets/base",
      "model_module_version": "1.2.0",
      "model_name": "LayoutModel",
      "state": {}
     },
     "1fc445417cf8485cb3fcb94754cc5e2d": {
      "model_module": "@jupyter-widgets/base",
      "model_module_version": "1.2.0",
      "model_name": "LayoutModel",
      "state": {
       "width": "190px"
      }
     },
     "226f774c013b47949886921b276da764": {
      "model_module": "@jupyter-widgets/controls",
      "model_module_version": "1.5.0",
      "model_name": "DescriptionStyleModel",
      "state": {
       "description_width": ""
      }
     },
     "2f2f84f490154a35bed4376612d6dfcd": {
      "model_module": "@jupyter-widgets/controls",
      "model_module_version": "1.5.0",
      "model_name": "ButtonStyleModel",
      "state": {}
     },
     "2f53122a383f437e8540fff41b405455": {
      "model_module": "@jupyter-widgets/base",
      "model_module_version": "1.2.0",
      "model_name": "LayoutModel",
      "state": {
       "width": "145px"
      }
     },
     "362d6576f53f4e3492e1dab6f3c04c39": {
      "model_module": "@jupyter-widgets/controls",
      "model_module_version": "1.5.0",
      "model_name": "GridBoxModel",
      "state": {
       "children": [
        "IPY_MODEL_4323ec3861484a15af920d1ac8b37ab3"
       ],
       "layout": "IPY_MODEL_78adc0faa72d495e9219899e31326c81"
      }
     },
     "4323ec3861484a15af920d1ac8b37ab3": {
      "model_module": "@jupyter-widgets/controls",
      "model_module_version": "1.5.0",
      "model_name": "ButtonModel",
      "state": {
       "button_style": "primary",
       "description": "Clear",
       "layout": "IPY_MODEL_c0447a0c3120426495f675cddc94a656",
       "style": "IPY_MODEL_2f2f84f490154a35bed4376612d6dfcd"
      }
     },
     "4b056a7eae354d0bbdf061b51c14357f": {
      "model_module": "@jupyter-widgets/controls",
      "model_module_version": "1.5.0",
      "model_name": "HTMLModel",
      "state": {
       "layout": "IPY_MODEL_2f53122a383f437e8540fff41b405455",
       "style": "IPY_MODEL_b19e685eea144338849c98803862fe82",
       "value": "<h5>Backend</h5>"
      }
     },
     "4c850ac77bd844f4a3f777e6f6a0fe4c": {
      "model_module": "@jupyter-widgets/base",
      "model_module_version": "1.2.0",
      "model_name": "LayoutModel",
      "state": {
       "margin": "0px 0px 10px 0px"
      }
     },
     "54fa9d59d672483db4ef95c0dc4c278a": {
      "model_module": "@jupyter-widgets/base",
      "model_module_version": "1.2.0",
      "model_name": "LayoutModel",
      "state": {
       "width": "95px"
      }
     },
     "61330c61b066484abfed5ee484f642c0": {
      "model_module": "@jupyter-widgets/controls",
      "model_module_version": "1.5.0",
      "model_name": "HTMLModel",
      "state": {
       "layout": "IPY_MODEL_4c850ac77bd844f4a3f777e6f6a0fe4c",
       "style": "IPY_MODEL_a9dd8b38c8e1400582bcc05f845f2c14",
       "value": "<p style='font-family: IBM Plex Sans, Arial, Helvetica, sans-serif; font-size: 20px; font-weight: medium;'>Circuit Properties</p>"
      }
     },
     "62dacac779d14de8bc6297cb170d7dab": {
      "model_module": "@jupyter-widgets/controls",
      "model_module_version": "1.5.0",
      "model_name": "HBoxModel",
      "state": {
       "children": [
        "IPY_MODEL_be25a2f6fb6b4d6caf1c329d52c956f5",
        "IPY_MODEL_4b056a7eae354d0bbdf061b51c14357f",
        "IPY_MODEL_08bb9e589df84d5b8e80ec9c7d5a1bea",
        "IPY_MODEL_03ee5a3dffdf4b06abdf1c9a042dec5b",
        "IPY_MODEL_ba3ea921d1f94e76a6d5be10eaed7603"
       ],
       "layout": "IPY_MODEL_a33a763edceb44d99b664ee1ab3b2f81"
      }
     },
     "6d11404a2e164277876f14fc22dd19f2": {
      "model_module": "@jupyter-widgets/controls",
      "model_module_version": "1.5.0",
      "model_name": "DescriptionStyleModel",
      "state": {
       "description_width": ""
      }
     },
     "78adc0faa72d495e9219899e31326c81": {
      "model_module": "@jupyter-widgets/base",
      "model_module_version": "1.2.0",
      "model_name": "LayoutModel",
      "state": {
       "grid_template_areas": "\n                                       \". . . . right \"\n                                        ",
       "grid_template_columns": "20% 20% 20% 20% 20%",
       "width": "100%"
      }
     },
     "a33a763edceb44d99b664ee1ab3b2f81": {
      "model_module": "@jupyter-widgets/base",
      "model_module_version": "1.2.0",
      "model_name": "LayoutModel",
      "state": {
       "margin": "0px 0px 0px 37px",
       "width": "600px"
      }
     },
     "a9dd8b38c8e1400582bcc05f845f2c14": {
      "model_module": "@jupyter-widgets/controls",
      "model_module_version": "1.5.0",
      "model_name": "DescriptionStyleModel",
      "state": {
       "description_width": ""
      }
     },
     "b19e685eea144338849c98803862fe82": {
      "model_module": "@jupyter-widgets/controls",
      "model_module_version": "1.5.0",
      "model_name": "DescriptionStyleModel",
      "state": {
       "description_width": ""
      }
     },
     "ba3ea921d1f94e76a6d5be10eaed7603": {
      "model_module": "@jupyter-widgets/controls",
      "model_module_version": "1.5.0",
      "model_name": "HTMLModel",
      "state": {
       "layout": "IPY_MODEL_0fdeb44de1ed460a86b4911893cf7600",
       "style": "IPY_MODEL_226f774c013b47949886921b276da764",
       "value": "<h5>Message</h5>"
      }
     },
     "be25a2f6fb6b4d6caf1c329d52c956f5": {
      "model_module": "@jupyter-widgets/controls",
      "model_module_version": "1.5.0",
      "model_name": "HTMLModel",
      "state": {
       "layout": "IPY_MODEL_1fc445417cf8485cb3fcb94754cc5e2d",
       "style": "IPY_MODEL_f2ddce45d2b448b7b048a136867dc4ce",
       "value": "<h5>Job ID</h5>"
      }
     },
     "c0447a0c3120426495f675cddc94a656": {
      "model_module": "@jupyter-widgets/base",
      "model_module_version": "1.2.0",
      "model_name": "LayoutModel",
      "state": {
       "grid_area": "right",
       "padding": "0px 0px 0px 0px",
       "width": "70px"
      }
     },
     "c2679e15be634d03ae399eb237e2d93e": {
      "model_module": "@jupyter-widgets/controls",
      "model_module_version": "1.5.0",
      "model_name": "DescriptionStyleModel",
      "state": {
       "description_width": ""
      }
     },
     "e5230361e3d84b28801590b1b59af486": {
      "model_module": "@jupyter-widgets/base",
      "model_module_version": "1.2.0",
      "model_name": "LayoutModel",
      "state": {
       "width": "70px"
      }
     },
     "f2ddce45d2b448b7b048a136867dc4ce": {
      "model_module": "@jupyter-widgets/controls",
      "model_module_version": "1.5.0",
      "model_name": "DescriptionStyleModel",
      "state": {
       "description_width": ""
      }
     }
    },
    "version_major": 2,
    "version_minor": 0
   }
  }
 },
 "nbformat": 4,
 "nbformat_minor": 5
}
